{
 "cells": [
  {
   "cell_type": "code",
   "execution_count": null,
   "id": "c6c73c91-b1ec-4e22-a00e-36fd1272ee51",
   "metadata": {},
   "outputs": [],
   "source": [
    "# pull and explore the data"
   ]
  },
  {
   "cell_type": "code",
   "execution_count": 1,
   "id": "0ae5b0ea-43b9-4e6d-88d1-9050d352a62c",
   "metadata": {},
   "outputs": [],
   "source": [
    "import requests"
   ]
  },
  {
   "cell_type": "code",
   "execution_count": 3,
   "id": "ceeea9ac-e36b-47bd-bde3-fdfc83da9a5d",
   "metadata": {},
   "outputs": [],
   "source": [
    "# call the API\n",
    "nyc = requests.get('https://data.cityofnewyork.us/resource/wvxf-dwi5.csv')"
   ]
  },
  {
   "cell_type": "code",
   "execution_count": null,
   "id": "edd8455a-5095-4d5d-97d8-a3fe57f0a8c3",
   "metadata": {},
   "outputs": [],
   "source": []
  }
 ],
 "metadata": {
  "kernelspec": {
   "display_name": "Python 3 (ipykernel)",
   "language": "python",
   "name": "python3"
  },
  "language_info": {
   "codemirror_mode": {
    "name": "ipython",
    "version": 3
   },
   "file_extension": ".py",
   "mimetype": "text/x-python",
   "name": "python",
   "nbconvert_exporter": "python",
   "pygments_lexer": "ipython3",
   "version": "3.12.4"
  }
 },
 "nbformat": 4,
 "nbformat_minor": 5
}
