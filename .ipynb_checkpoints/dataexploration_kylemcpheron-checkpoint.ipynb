{
 "cells": [
  {
   "cell_type": "code",
   "execution_count": 3,
   "id": "fad1fa5e-55f3-4f9b-a37a-b7d0cab48af3",
   "metadata": {},
   "outputs": [],
   "source": [
    "#Data Exploration#"
   ]
  },
  {
   "cell_type": "code",
   "execution_count": 13,
   "id": "687bdca8-1bc1-422a-ab7a-98304bb6cd8f",
   "metadata": {},
   "outputs": [],
   "source": [
    "import requests"
   ]
  },
  {
   "cell_type": "code",
   "execution_count": 17,
   "id": "ef957bb4-c19f-43d9-80a9-9d2f7e7e1fad",
   "metadata": {},
   "outputs": [],
   "source": [
    "# API Call\n",
    "\n",
    "nyc = requests.get('https://data.cityofnewyork.us/resource/wvxf-dwi5.csv')"
   ]
  },
  {
   "cell_type": "code",
   "execution_count": null,
   "id": "bd57ae5d-826c-47de-8558-2ee3f7e2f9d0",
   "metadata": {},
   "outputs": [],
   "source": []
  }
 ],
 "metadata": {
  "kernelspec": {
   "display_name": "Python [conda env:base] *",
   "language": "python",
   "name": "conda-base-py"
  },
  "language_info": {
   "codemirror_mode": {
    "name": "ipython",
    "version": 3
   },
   "file_extension": ".py",
   "mimetype": "text/x-python",
   "name": "python",
   "nbconvert_exporter": "python",
   "pygments_lexer": "ipython3",
   "version": "3.11.5"
  }
 },
 "nbformat": 4,
 "nbformat_minor": 5
}
