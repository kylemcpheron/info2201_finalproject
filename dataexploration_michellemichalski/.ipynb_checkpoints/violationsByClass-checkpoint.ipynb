{
 "cells": [
  {
   "cell_type": "markdown",
   "id": "b11c539b-c5a0-48d2-884b-c51ac72e5061",
   "metadata": {},
   "source": [
    "READ ME for THIS VISUAL\n",
    "\n",
    "(After working with you one-on-one to do a secondary data clean for the total counts by year visual, I had a much better grasp of how this works. I wanted to do the same for my other two visuals for practice and to provide a better working code for data storage on GitHub.)\n",
    "(It also includes a new visual that matches my other one but is done correctly.)\n",
    "\n",
    "Description: \n",
    "This script visualizes the distribution of housing maintenance code violations by violation class (A, B, C, I) for the years 2019, 2021, and 2024. Each violation is categorized by severity, and the resulting bar chart compares how these categories are distributed across the selected years.\n",
    "\n",
    "These 3 csv files must be unzipped and extracted for use:\n",
    "`Housing_Maintenance_Code_Violations_2019.csv`\n",
    "`Housing_Maintenance_Code_Violations_2021.csv`\n",
    "`Housing_Maintenance_Code_Violations_2024.csv`\n",
    "\n",
    "Files Used:\n",
    "`Housing_Maintenance_Code_Violations_2019.csv`\n",
    "`Housing_Maintenance_Code_Violations_2021.csv`\n",
    "`Housing_Maintenance_Code_Violations_2024.csv`\n",
    "`final_violation_classes.csv`: Cleaned file with only two columns: Class and Year\n",
    "\n",
    "Data Cleaning & Proccessing Steps:\n",
    "Load original datasets for 2019, 2021, and 2024\n",
    "Keep only the Class column and add a Year column to each\n",
    "Combine all three years into a single DataFrame\n",
    "Save a reduced CSV `final_violation_classes.csv` with only Class and Year\n",
    "Group by Class and Year to count violations per class per year\n",
    "\n",
    "Visualization:\n",
    "Bar chart grouped by violation class (A, B, C, I)\n",
    "Each class shows three bars (for 2019, 2021, 2024)\n",
    "X-axis: Violation Class  \n",
    "Y-axis: Count of Violations  \n",
    "Colors: Three distinct purple hues for visual distinction (`#9B7EDC`, `#580F41`, `#C4B7D3`)  \n",
    "Chart filename: `violation_classes_by_year.png`"
   ]
  },
  {
   "cell_type": "code",
   "execution_count": null,
   "id": "62920d05-2569-455c-9a09-f1ce992d8427",
   "metadata": {},
   "outputs": [],
   "source": [
    "import pandas as pd\n",
    "\n",
    "# Step 1: Load full files\n",
    "df19 = pd.read_csv(\"data/Housing_Maintenance_Code_Violations_2019\")\n",
    "df21 = pd.read_csv(\"data/Housing_Maintenance_Code_Violations_2021.csv\")\n",
    "df24 = pd.read_csv(\"data/Housing_Maintenance_Code_Violations_2024.csv\")\n",
    "\n",
    "# Step 2: Keep only the 'Class' column, and add a Year label\n",
    "df19 = df19[[\"Class\"]].copy()\n",
    "df19[\"Year\"] = 2019\n",
    "\n",
    "df21 = df21[[\"Class\"]].copy()\n",
    "df21[\"Year\"] = 2021\n",
    "\n",
    "df24 = df24[[\"Class\"]].copy()\n",
    "df24[\"Year\"] = 2024\n",
    "\n",
    "# Step 3: Combine all three years into one small DataFrame\n",
    "df_combined = pd.concat([df19, df21, df24])\n",
    "\n",
    "# Step 4: Save to cleaned CSV\n",
    "df_combined.to_csv(\"data/final_violation_classes.csv\", index=False)"
   ]
  },
  {
   "cell_type": "code",
   "execution_count": null,
   "id": "65ea76e8-24d5-48a0-b300-018c73aa674b",
   "metadata": {},
   "outputs": [],
   "source": [
    "import pandas as pd\n",
    "import matplotlib.pyplot as plt\n",
    "\n",
    "# Step 1: Load the cleaned data\n",
    "df = pd.read_csv(\"data/final_violation_classes.csv\")\n",
    "\n",
    "# Step 2: Group by class and year, then count\n",
    "grouped = df.groupby([\"Class\", \"Year\"]).size().unstack(fill_value=0)\n",
    "\n",
    "# Step 3: Plot\n",
    "grouped.plot(kind=\"bar\", figsize=(8,6), color=['#9B7EDC', '#580F41', '#C4B7D3'])\n",
    "plt.title(\"Violation Class Distribution by Year\")\n",
    "plt.xlabel(\"Violation Class\")\n",
    "plt.ylabel(\"Number of Violations\")\n",
    "plt.xticks(rotation=0)\n",
    "plt.legend(title=\"Year\")\n",
    "plt.tight_layout()\n",
    "plt.savefig(\"violation_classes_by_year.png\", bbox_inches='tight')\n",
    "plt.show()"
   ]
  },
  {
   "cell_type": "code",
   "execution_count": null,
   "id": "18502b47-9d8d-4f81-93fe-65ad86a32616",
   "metadata": {},
   "outputs": [],
   "source": []
  }
 ],
 "metadata": {
  "kernelspec": {
   "display_name": "Python 3 (ipykernel)",
   "language": "python",
   "name": "python3"
  },
  "language_info": {
   "codemirror_mode": {
    "name": "ipython",
    "version": 3
   },
   "file_extension": ".py",
   "mimetype": "text/x-python",
   "name": "python",
   "nbconvert_exporter": "python",
   "pygments_lexer": "ipython3",
   "version": "3.12.4"
  }
 },
 "nbformat": 4,
 "nbformat_minor": 5
}
