{
 "cells": [
  {
   "cell_type": "markdown",
   "id": "8b979c0f-f9ed-417b-bc02-2f7790bbf82a",
   "metadata": {},
   "source": [
    "READ ME for THIS VISUAL\n",
    " \n",
    "(First, thank for your individual help for this visual! This all makes so much more sense. For practice I redid the code on my other 2 visuals to create 2 secondary cleaned csv's that are much smaller in size for GitHub usability.)\n",
    "\n",
    "Description:\n",
    "This script processes approved housing maintenance code violations in New York City from 2019 to 2024, aggregating the number of approved violations by year. The output includes a cleaned CSV file (final_dateCounts.csv) and a bar chart visualization (violations_by_year_2019_2024.png) showing the annual violation totals.\n",
    "\n",
    "Files Used:\n",
    "'approved19_24.csv': Original file containing approval dates for violations between 2019 and 2024.\n",
    "'approvedDateCounts.csv': File containing pre-counted totals for each approval date.\n",
    "'final_dateCounts.csv': Final, reduced dataset containing only approval dates and violation counts (used for plotting).\n",
    "                                                                                                   \n",
    "Data Cleaning & Processing Steps:\n",
    "Load Raw Data\n",
    "Load two source CSVs — one with raw approval dates 'approved19_24.csv' and one with violation counts 'approvedDateCounts.csv'.\n",
    "Combine Columns\n",
    "Merge the Counts column number of violations per date with the corresponding ApprovedDate values.\n",
    "Save Cleaned CSV\n",
    "Save the smaller, focused DataFrame with only the two necessary columns: ApprovedDate and Counts.\n",
    "Convert Dates to Years\n",
    "Use pd.to_datetime() to convert the ApprovedDate column and extract the year component.\n",
    "Aggregate by Year\n",
    "Group the data by year and sum total violation counts for each.\n",
    "                                               \n",
    "Visualization\n",
    "A bar chart 'violations_by_year_2019_2024.png' is generated to show the total number of approved violations for each year from 2019 to 2024.\n",
    "X-axis: Year\n",
    "Y-axis: Number of approved violations\n",
    "Color: Dark purple (rebeccapurple)\n",
    "Total Count: Nearly 4.6 million violations approved over this 6-year period."
   ]
  },
  {
   "cell_type": "code",
   "execution_count": 15,
   "id": "f1e84313-fc43-434b-b816-e7b202c4cce9",
   "metadata": {},
   "outputs": [
    {
     "name": "stdout",
     "output_type": "stream",
     "text": [
      "   ApprovedDate\n",
      "0          1784\n",
      "1          2120\n",
      "2          1973\n",
      "3           781\n",
      "4           949\n",
      "  ApprovedDate\n",
      "0   01/02/2019\n",
      "1   01/03/2019\n",
      "2   01/04/2019\n",
      "3   01/05/2019\n",
      "4   01/06/2019\n"
     ]
    }
   ],
   "source": [
    "import pandas as pd\n",
    "\n",
    "# Load file (adjust path if needed)\n",
    "df = pd.read_csv(\"data/approvedDateCounts.csv\")\n",
    "dfDate = pd.read_csv(\"data/approved19_24.csv\")\n",
    "\n",
    "# Show the first 10 rows\n",
    "print(df.head())\n",
    "print(dfDate.head())"
   ]
  },
  {
   "cell_type": "code",
   "execution_count": 17,
   "id": "2846c4fa-d3e6-4239-b1bb-01ad96e599a7",
   "metadata": {},
   "outputs": [
    {
     "name": "stdout",
     "output_type": "stream",
     "text": [
      "2190\n",
      "2190\n"
     ]
    }
   ],
   "source": [
    "print(len(df))\n",
    "print(len(dfDate))"
   ]
  },
  {
   "cell_type": "code",
   "execution_count": 25,
   "id": "51a93f05-5115-41db-a28d-cb17043ac253",
   "metadata": {},
   "outputs": [],
   "source": [
    "df_dateCounts = dfDate\n",
    "df_dateCounts[\"Counts\"] = df[\"ApprovedDate\"]"
   ]
  },
  {
   "cell_type": "code",
   "execution_count": null,
   "id": "287f1587-1d0d-4f09-8235-7ad431eb6319",
   "metadata": {},
   "outputs": [],
   "source": []
  },
  {
   "cell_type": "code",
   "execution_count": 27,
   "id": "c1145400-30a5-4e87-8336-6ad8de5e92cd",
   "metadata": {},
   "outputs": [
    {
     "data": {
      "text/html": [
       "<div>\n",
       "<style scoped>\n",
       "    .dataframe tbody tr th:only-of-type {\n",
       "        vertical-align: middle;\n",
       "    }\n",
       "\n",
       "    .dataframe tbody tr th {\n",
       "        vertical-align: top;\n",
       "    }\n",
       "\n",
       "    .dataframe thead th {\n",
       "        text-align: right;\n",
       "    }\n",
       "</style>\n",
       "<table border=\"1\" class=\"dataframe\">\n",
       "  <thead>\n",
       "    <tr style=\"text-align: right;\">\n",
       "      <th></th>\n",
       "      <th>ApprovedDate</th>\n",
       "      <th>Counts</th>\n",
       "    </tr>\n",
       "  </thead>\n",
       "  <tbody>\n",
       "    <tr>\n",
       "      <th>0</th>\n",
       "      <td>01/02/2019</td>\n",
       "      <td>1784</td>\n",
       "    </tr>\n",
       "    <tr>\n",
       "      <th>1</th>\n",
       "      <td>01/03/2019</td>\n",
       "      <td>2120</td>\n",
       "    </tr>\n",
       "    <tr>\n",
       "      <th>2</th>\n",
       "      <td>01/04/2019</td>\n",
       "      <td>1973</td>\n",
       "    </tr>\n",
       "    <tr>\n",
       "      <th>3</th>\n",
       "      <td>01/05/2019</td>\n",
       "      <td>781</td>\n",
       "    </tr>\n",
       "    <tr>\n",
       "      <th>4</th>\n",
       "      <td>01/06/2019</td>\n",
       "      <td>949</td>\n",
       "    </tr>\n",
       "    <tr>\n",
       "      <th>...</th>\n",
       "      <td>...</td>\n",
       "      <td>...</td>\n",
       "    </tr>\n",
       "    <tr>\n",
       "      <th>2185</th>\n",
       "      <td>12/27/2024</td>\n",
       "      <td>2233</td>\n",
       "    </tr>\n",
       "    <tr>\n",
       "      <th>2186</th>\n",
       "      <td>12/28/2024</td>\n",
       "      <td>1362</td>\n",
       "    </tr>\n",
       "    <tr>\n",
       "      <th>2187</th>\n",
       "      <td>12/29/2024</td>\n",
       "      <td>1094</td>\n",
       "    </tr>\n",
       "    <tr>\n",
       "      <th>2188</th>\n",
       "      <td>12/30/2024</td>\n",
       "      <td>2718</td>\n",
       "    </tr>\n",
       "    <tr>\n",
       "      <th>2189</th>\n",
       "      <td>12/31/2024</td>\n",
       "      <td>1956</td>\n",
       "    </tr>\n",
       "  </tbody>\n",
       "</table>\n",
       "<p>2190 rows × 2 columns</p>\n",
       "</div>"
      ],
      "text/plain": [
       "     ApprovedDate  Counts\n",
       "0      01/02/2019    1784\n",
       "1      01/03/2019    2120\n",
       "2      01/04/2019    1973\n",
       "3      01/05/2019     781\n",
       "4      01/06/2019     949\n",
       "...           ...     ...\n",
       "2185   12/27/2024    2233\n",
       "2186   12/28/2024    1362\n",
       "2187   12/29/2024    1094\n",
       "2188   12/30/2024    2718\n",
       "2189   12/31/2024    1956\n",
       "\n",
       "[2190 rows x 2 columns]"
      ]
     },
     "execution_count": 27,
     "metadata": {},
     "output_type": "execute_result"
    }
   ],
   "source": [
    "df_dateCounts"
   ]
  },
  {
   "cell_type": "code",
   "execution_count": null,
   "id": "3b8e2ef4-ce26-4c45-86bb-34813f1b2b0f",
   "metadata": {},
   "outputs": [],
   "source": []
  },
  {
   "cell_type": "code",
   "execution_count": 35,
   "id": "425610f2-6851-4335-a00d-1b3951f90a93",
   "metadata": {},
   "outputs": [],
   "source": [
    "df_dateCounts.to_csv(\"data/final_dateCounts.csv\")"
   ]
  },
  {
   "cell_type": "code",
   "execution_count": null,
   "id": "cfae31c8-8cec-4edd-89d7-a8a6bda5d357",
   "metadata": {},
   "outputs": [],
   "source": []
  },
  {
   "cell_type": "code",
   "execution_count": 73,
   "id": "3fd587fc-8f60-4ca5-aff1-0ae8cc4c37cc",
   "metadata": {},
   "outputs": [
    {
     "name": "stdout",
     "output_type": "stream",
     "text": [
      "Year\n",
      "2019    668537\n",
      "2020    425169\n",
      "2021    767135\n",
      "2022    859657\n",
      "2023    878411\n",
      "Name: Counts, dtype: int64\n"
     ]
    },
    {
     "data": {
      "image/png": "[encoded data removed]",
      "text/plain": [
       "<Figure size 800x500 with 1 Axes>"
      ]
     },
     "metadata": {},
     "output_type": "display_data"
    }
   ],
   "source": [
    "import pandas as pd\n",
    "import matplotlib.pyplot as plt\n",
    "\n",
    "# Step 1: Load the data\n",
    "df = pd.read_csv(\"data/final_dateCounts.csv\")\n",
    "\n",
    "# Step 3: Convert 'approveddate' to datetime\n",
    "df['ApprovedDate'] = pd.to_datetime(df['ApprovedDate'], errors='coerce')\n",
    "\n",
    "# Extract year from the 'Date' column\n",
    "df['Year'] = df[\"ApprovedDate\"].dt.year\n",
    "\n",
    "# 2. Group by 'Year' and sum the values of 'Value_A' and 'Value_B'\n",
    "# You can use .mean(), .sum(), etc., depending on your aggregation needs\n",
    "grouped_df = df.groupby('Year')[\"Counts\"].sum()\n",
    "\n",
    "print(grouped_df.head())\n",
    "\n",
    "\n",
    "#df.plot(x=\"ApprovedDate\", y=\"Counts\", kind=\"bar\")\n",
    "\n",
    "# Step 8: Plot\n",
    "plt.figure(figsize=(8, 5))\n",
    "grouped_df.plot(kind=\"bar\", color=\"rebeccapurple\")\n",
    "plt.title(\"Approved Housing Violations by Year (2019–2024)\")\n",
    "plt.xlabel(\"Year\")\n",
    "plt.ylabel(\"Violation Count\")\n",
    "plt.xticks(rotation=0)\n",
    "\n",
    "# Disable scientific notation on the y-axis\n",
    "plt.ticklabel_format(style='plain', axis='y')\n",
    "plt.savefig(\"violations_by_year_2019_2024.png\", bbox_inches='tight')\n",
    "plt.show()\n",
    "\n",
    "\n"
   ]
  },
  {
   "cell_type": "code",
   "execution_count": null,
   "id": "2018ddba-6559-458c-bb77-21a2cd761bb1",
   "metadata": {},
   "outputs": [],
   "source": []
  }
 ],
 "metadata": {
  "kernelspec": {
   "display_name": "Python 3 (ipykernel)",
   "language": "python",
   "name": "python3"
  },
  "language_info": {
   "codemirror_mode": {
    "name": "ipython",
    "version": 3
   },
   "file_extension": ".py",
   "mimetype": "text/x-python",
   "name": "python",
   "nbconvert_exporter": "python",
   "pygments_lexer": "ipython3",
   "version": "3.12.4"
  }
 },
 "nbformat": 4,
 "nbformat_minor": 5
}
