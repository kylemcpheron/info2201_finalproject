{
 "cells": [
  {
   "cell_type": "markdown",
   "id": "958ffe1b-f445-417c-b6d2-c75873787da7",
   "metadata": {},
   "source": [
    "READ ME for This Visual\n",
    "\n",
    "Description \n",
    "This script visualizes the number of housing maintenance code violations by borough for the years 2019, 2021, and 2024. The data shows how violation counts vary geographically across NYC’s five boroughs and highlights changes over time.\n",
    "\n",
    "These 3 csv files must be unzipped and extracted for use:\n",
    "`Housing_Maintenance_Code_Violations_2019.csv`\n",
    "`Housing_Maintenance_Code_Violations_2021.csv`\n",
    "`Housing_Maintenance_Code_Violations_2024.csv`\n",
    "    \n",
    "Files Used:\n",
    "`Housing_Maintenance_Code_Violations_2019.csv`\n",
    "`Housing_Maintenance_Code_Violations_2021.csv`\n",
    "`Housing_Maintenance_Code_Violations_2024.csv`\n",
    "`final_borough_counts.csv`: Cleaned file with only two columns, Borough and Year\n",
    "\n",
    "Data Steps:\n",
    "Load original datasets for 2019, 2021, and 2024\n",
    "Keep only the Borough column and add a Year column to each\n",
    "Combine all three years into one DataFrame\n",
    "Save as `final_borough_counts.csv`\n",
    "Group by Year and Borough to count violations per borough per year\n",
    "\n",
    "Visualization\n",
    "Bar chart comparing violation totals for each borough\n",
    "Each borough shows three bars for 2019, 2021, 2024\n",
    "X-axis: Borough  \n",
    "Y-axis: Violation Count  \n",
    "Colors:  \n",
    "'#9B7EDC' (lavender purple – 2019)  \n",
    "'#580F41' (deep plum – 2021)  \n",
    "'#C4B7D3' (soft lavender – 2024)  \n",
    "Chart filename: `violations_by_borough_comparison.png`\n"
   ]
  },
  {
   "cell_type": "code",
   "execution_count": null,
   "id": "29c01328-2b64-4934-9475-e42546478b6b",
   "metadata": {},
   "outputs": [],
   "source": [
    "import pandas as pd\n",
    "\n",
    "# Step 1: Load original CSVs\n",
    "violation19 = pd.read_csv(\"data/Housing_Maintenance_Code_Violations_2019.csv\")\n",
    "violation21 = pd.read_csv(\"data/Housing_Maintenance_Code_Violations_2021.csv\")\n",
    "violation24 = pd.read_csv(\"data/Housing_Maintenance_Code_Violations_2024.csv\")\n",
    "\n",
    "# Step 2: Keep only 'Borough' and add 'Year'\n",
    "df19 = violation19[[\"Borough\"]].copy()\n",
    "df19[\"Year\"] = 2019\n",
    "\n",
    "df21 = violation21[[\"Borough\"]].copy()\n",
    "df21[\"Year\"] = 2021\n",
    "\n",
    "df24 = violation24[[\"Borough\"]].copy()\n",
    "df24[\"Year\"] = 2024\n",
    "\n",
    "# Step 3: Combine and save to a cleaned CSV\n",
    "borough_combined = pd.concat([df19, df21, df24])\n",
    "borough_combined.to_csv(\"data/final_borough_counts.csv\", index=False)"
   ]
  },
  {
   "cell_type": "code",
   "execution_count": null,
   "id": "a01ab70b-dfc3-4255-bf2b-ade5e69dd6ca",
   "metadata": {},
   "outputs": [],
   "source": [
    "import pandas as pd\n",
    "import matplotlib.pyplot as plt\n",
    "\n",
    "# Step 1: Load the cleaned CSV\n",
    "df = pd.read_csv(\"data/final_borough_counts.csv\")\n",
    "\n",
    "# Step 2: Group by Year and Borough\n",
    "grouped = df.groupby([\"Year\", \"Borough\"]).size().unstack()\n",
    "\n",
    "# Step 3: Plot\n",
    "grouped.T.plot(kind='bar', figsize=(8,6), color=['#9B7EDC', '#580F41', '#C4B7D3'])\n",
    "plt.title(\"Housing Violations by Borough: 2019 vs 2021 vs 2024\")\n",
    "plt.xlabel(\"Borough\")\n",
    "plt.ylabel(\"Violations\")\n",
    "plt.xticks(rotation=45)\n",
    "plt.legend(title=\"Year\")\n",
    "plt.tight_layout()\n",
    "plt.savefig(\"violations_by_borough_comparison.png\", bbox_inches='tight')\n",
    "plt.show()"
   ]
  }
 ],
 "metadata": {
  "kernelspec": {
   "display_name": "Python 3 (ipykernel)",
   "language": "python",
   "name": "python3"
  },
  "language_info": {
   "codemirror_mode": {
    "name": "ipython",
    "version": 3
   },
   "file_extension": ".py",
   "mimetype": "text/x-python",
   "name": "python",
   "nbconvert_exporter": "python",
   "pygments_lexer": "ipython3",
   "version": "3.12.4"
  }
 },
 "nbformat": 4,
 "nbformat_minor": 5
}
